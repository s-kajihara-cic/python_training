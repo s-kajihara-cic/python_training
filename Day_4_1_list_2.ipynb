{
 "cells": [
  {
   "cell_type": "markdown",
   "metadata": {},
   "source": [
    "# Join List"
   ]
  },
  {
   "cell_type": "code",
   "execution_count": 1,
   "metadata": {},
   "outputs": [],
   "source": [
    "fruits = ['🍎', '🍊', '🍓', '🍍']\n",
    "vegitables = ['🥕','🥒','🍆','🥔']"
   ]
  },
  {
   "cell_type": "code",
   "execution_count": 4,
   "metadata": {},
   "outputs": [
    {
     "data": {
      "text/plain": [
       "['🍎', '🍊', '🍓', '🍍', '🥕', '🥒', '🍆', '🥔']"
      ]
     },
     "execution_count": 4,
     "metadata": {},
     "output_type": "execute_result"
    }
   ],
   "source": [
    "all = fruits + vegitables\n",
    "all"
   ]
  },
  {
   "cell_type": "markdown",
   "metadata": {},
   "source": [
    "## List to string (Convertion)\n",
    "\n",
    "- join to convertion"
   ]
  },
  {
   "cell_type": "code",
   "execution_count": null,
   "metadata": {},
   "outputs": [
    {
     "name": "stdout",
     "output_type": "stream",
     "text": [
      "🥕, 🥒, 🍆, 🥔\n",
      "🥕, 🥒, 🍆, 🥔\n"
     ]
    }
   ],
   "source": [
    "vegitables = ['🥕','🥒','🍆','🥔']\n",
    "# Change data type\n",
    "\n",
    "## Solution 1 \n",
    "print(\", \".join(vegitables))\n",
    "\n",
    "## Solution 2\n",
    "message = \"\"\n",
    "for i in range(len(vegitables)):\n",
    "    message += vegitables[i]\n",
    "    if i != len(vegitables) - 1:\n",
    "        message += \", \"\n",
    "print(message)\n",
    "\n",
    "# Output\n",
    "# '🥕,🥒,🍆,🥔'"
   ]
  },
  {
   "cell_type": "markdown",
   "metadata": {},
   "source": [
    "## String to List(Convertion)\n",
    "\n",
    "- split()"
   ]
  },
  {
   "cell_type": "code",
   "execution_count": 10,
   "metadata": {},
   "outputs": [
    {
     "name": "stdout",
     "output_type": "stream",
     "text": [
      "['🥕', '🥒', '🍆', '🥔']\n"
     ]
    }
   ],
   "source": [
    "print(message.split(\", \"))"
   ]
  },
  {
   "cell_type": "code",
   "execution_count": null,
   "metadata": {},
   "outputs": [
    {
     "name": "stdout",
     "output_type": "stream",
     "text": [
      "[100, 200, 300, 500]\n",
      "[100, 200, 400]\n",
      "[100, 200, 300, 500]\n",
      "False\n",
      "True\n"
     ]
    }
   ],
   "source": [
    "num1 = [100, 200]\n",
    "num2 = [100, 200]\n",
    "num3 = num1     # copy by reference | Refer to same location\n",
    "num1.append(300)\n",
    "num2.append(400)\n",
    "num3.append(500)\n",
    "\n",
    "print(num1)\n",
    "print(num2)\n",
    "print(num3)\n",
    "print(num1 == num2)\n",
    "print(num1 == num3)"
   ]
  }
 ],
 "metadata": {
  "kernelspec": {
   "display_name": "Python 3",
   "language": "python",
   "name": "python3"
  },
  "language_info": {
   "codemirror_mode": {
    "name": "ipython",
    "version": 3
   },
   "file_extension": ".py",
   "mimetype": "text/x-python",
   "name": "python",
   "nbconvert_exporter": "python",
   "pygments_lexer": "ipython3",
   "version": "3.13.0"
  }
 },
 "nbformat": 4,
 "nbformat_minor": 2
}
