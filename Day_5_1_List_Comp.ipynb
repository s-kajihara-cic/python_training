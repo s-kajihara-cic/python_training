{
 "cells": [
  {
   "cell_type": "code",
   "execution_count": 3,
   "metadata": {},
   "outputs": [
    {
     "data": {
      "text/plain": [
       "[180, 160, 120]"
      ]
     },
     "execution_count": 3,
     "metadata": {},
     "output_type": "execute_result"
    }
   ],
   "source": [
    "marks = [ 90, 80, 60]\n",
    "\n",
    "# List Comprehension (Special)\n",
    "# Double all mark for each mark in marks (English)\n",
    "dbl_marks = [mark * 2 for mark in marks]\n",
    "dbl_marks\n"
   ]
  },
  {
   "cell_type": "code",
   "execution_count": null,
   "metadata": {},
   "outputs": [
    {
     "data": {
      "text/plain": [
       "[180, 160]"
      ]
     },
     "execution_count": 4,
     "metadata": {},
     "output_type": "execute_result"
    }
   ],
   "source": [
    "# Filter with Comprehension\n",
    "\n",
    "marks = [ 90, 80, 60]\n",
    "\n",
    "# 3 parts\n",
    "# (1. Transformation) (2. for loop) (3. Filter)\n",
    "# (Give the mark) (for each mark in marks) (where mark > 70)\n",
    "# (where mark > 70) -> filter\n",
    "highest_marks = [mark for mark in marks if mark > 70]\n",
    "\n",
    "highest_marks\n"
   ]
  },
  {
   "cell_type": "code",
   "execution_count": 5,
   "metadata": {},
   "outputs": [
    {
     "data": {
      "text/plain": [
       "[180, 160]"
      ]
     },
     "execution_count": 5,
     "metadata": {},
     "output_type": "execute_result"
    }
   ],
   "source": [
    "marks = [ 90, 80, 60]\n",
    "\n",
    "[mark * 2 for mark in marks if mark > 70]"
   ]
  }
 ],
 "metadata": {
  "kernelspec": {
   "display_name": "Python 3",
   "language": "python",
   "name": "python3"
  },
  "language_info": {
   "codemirror_mode": {
    "name": "ipython",
    "version": 3
   },
   "file_extension": ".py",
   "mimetype": "text/x-python",
   "name": "python",
   "nbconvert_exporter": "python",
   "pygments_lexer": "ipython3",
   "version": "3.13.0"
  }
 },
 "nbformat": 4,
 "nbformat_minor": 2
}
