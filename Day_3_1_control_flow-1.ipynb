{
 "cells": [
  {
   "cell_type": "markdown",
   "metadata": {},
   "source": [
    "## Contorl Operator\n",
    "\n",
    "```py\n",
    "print(quote[2:6])\n",
    "```\n",
    "\n",
    "- Extracts part of a string\n",
    "- Arguments\n",
    "    - `start` by default *starts* with 0\n",
    "    - `end` value is **exclude**\n",
    "    - `skip` skip letter"
   ]
  },
  {
   "cell_type": "code",
   "execution_count": 3,
   "metadata": {},
   "outputs": [
    {
     "name": "stdout",
     "output_type": "stream",
     "text": [
      "Sorry, we ran out \n"
     ]
    }
   ],
   "source": [
    "# Read from the User\n",
    "fav_flavour = \"vanilla\"  # Satoshi\n",
    "\n",
    "# Shop\n",
    "stock1 = \"chocolate mint\"\n",
    "stock2 = \"vanilla\"\n",
    "stock3 = \"coffee\"\n",
    "stock4 = \"green tea\"\n",
    "\n",
    "fav_flavour = input(\"Please tell me your favorite flavour: \").lower()\n",
    "\n",
    "# Task 1.3\n",
    "stocks = [stock1, stock2, stock3, stock4]\n",
    "if fav_flavour in stocks:\n",
    "    print(f\"Yes, we have {fav_flavour} in stock\")\n",
    "else:\n",
    "    print(f\"Sorry, we ran out {fav_flavour}\")"
   ]
  },
  {
   "cell_type": "code",
   "execution_count": 5,
   "metadata": {},
   "outputs": [
    {
     "name": "stdout",
     "output_type": "stream",
     "text": [
      "hello\n"
     ]
    }
   ],
   "source": [
    "print(\"hello\")"
   ]
  },
  {
   "cell_type": "markdown",
   "metadata": {},
   "source": [
    "# Shortcut\n",
    "\n",
    "- emoji -> `window + .`\n",
    "- termnai -> `ctrl + ~`\n",
    "- commet out -> `ctrl + /`"
   ]
  },
  {
   "cell_type": "markdown",
   "metadata": {},
   "source": [
    "# loop\n",
    "Repeats set of statements\n",
    "\n",
    "## Type of loops\n",
    "- `while` loop\n",
    "- `for` loop\n"
   ]
  },
  {
   "cell_type": "code",
   "execution_count": 9,
   "metadata": {},
   "outputs": [
    {
     "name": "stdout",
     "output_type": "stream",
     "text": [
      "Yoshi\n",
      "Yoshi\n",
      "Yoshi\n",
      "end i = 4\n"
     ]
    }
   ],
   "source": [
    "i = 1\n",
    "\n",
    "while i <= 3:\n",
    "    print(\"Yoshi\")\n",
    "    i += 1\n",
    "else:\n",
    "    print(f\"end i = {i}\")"
   ]
  },
  {
   "cell_type": "markdown",
   "metadata": {},
   "source": [
    "### Task 1.1\n",
    "\n",
    "#### Expected Output\n",
    "\n",
    "```output\n",
    "🔥\n",
    "🔥🔥\n",
    "🔥🔥🔥\n",
    "🔥🔥🔥🔥\n",
    "🔥🔥🔥🔥🔥\n",
    "```"
   ]
  },
  {
   "cell_type": "code",
   "execution_count": 12,
   "metadata": {},
   "outputs": [
    {
     "name": "stdout",
     "output_type": "stream",
     "text": [
      "🔥\n",
      "🔥🔥\n",
      "🔥🔥🔥\n",
      "🔥🔥🔥🔥\n",
      "🔥🔥🔥🔥🔥\n"
     ]
    }
   ],
   "source": [
    "i = 1\n",
    "\n",
    "while i <= 5:\n",
    "    print(\"🔥\" * i)\n",
    "    i += 1"
   ]
  },
  {
   "cell_type": "markdown",
   "metadata": {},
   "source": [
    "### Task 1.2\n",
    "Get the `no. of rows` & `Pattern` (🍧) from user"
   ]
  },
  {
   "cell_type": "code",
   "execution_count": 29,
   "metadata": {},
   "outputs": [
    {
     "name": "stdout",
     "output_type": "stream",
     "text": [
      "🎊\n",
      "🎊🎊\n",
      "🎊🎊🎊\n",
      "🎊🎊🎊🎊\n",
      "🎊🎊🎊🎊🎊\n",
      "🎊🎊🎊🎊🎊🎊\n",
      "🎊🎊🎊🎊🎊🎊🎊\n",
      "🎊🎊🎊🎊🎊🎊🎊🎊\n",
      "🎊🎊🎊🎊🎊🎊🎊🎊🎊\n",
      "🎊🎊🎊🎊🎊🎊🎊🎊🎊🎊\n"
     ]
    }
   ],
   "source": [
    "rows = input(\"How mach you show tower rows?: \")\n",
    "words = input(\"What do you show words?: \")\n",
    "\n",
    "i = 1\n",
    "while i <= int(rows):\n",
    "    print(words * i)\n",
    "    i += 1\n"
   ]
  },
  {
   "cell_type": "code",
   "execution_count": 36,
   "metadata": {},
   "outputs": [
    {
     "name": "stdout",
     "output_type": "stream",
     "text": [
      "         *\n",
      "        ***\n",
      "       *****\n",
      "      *******\n",
      "     *********\n",
      "    ***********\n",
      "   *************\n",
      "  ***************\n",
      " *****************\n",
      "*******************\n"
     ]
    }
   ],
   "source": [
    "rows = int(input(\"How mach you show tower rows?: \"))\n",
    "words = input(\"What do you show words?: \")\n",
    "\n",
    "i = 1\n",
    "while i <= rows:\n",
    "    space = \" \" * (rows - i)\n",
    "    print(space + words * (2 * i - 1))\n",
    "    i += 1\n"
   ]
  },
  {
   "cell_type": "markdown",
   "metadata": {},
   "source": [
    "## range(start, end)\n",
    "- `start` defaults to `0`\n",
    "- `end` value is **excluded**"
   ]
  },
  {
   "cell_type": "code",
   "execution_count": 39,
   "metadata": {},
   "outputs": [
    {
     "name": "stdout",
     "output_type": "stream",
     "text": [
      "0\n",
      "1\n",
      "2\n",
      "3\n",
      "4\n"
     ]
    }
   ],
   "source": [
    "for i in range(5):\n",
    "    print(i)"
   ]
  },
  {
   "cell_type": "code",
   "execution_count": 42,
   "metadata": {},
   "outputs": [
    {
     "name": "stdout",
     "output_type": "stream",
     "text": [
      "1\n",
      "2\n",
      "3\n",
      "4\n"
     ]
    }
   ],
   "source": [
    "for i in range(1,5):\n",
    "    print(i)"
   ]
  },
  {
   "cell_type": "markdown",
   "metadata": {},
   "source": [
    "## Task 2.1 - Convert Task 1.1 with `for` loop\n"
   ]
  },
  {
   "cell_type": "code",
   "execution_count": 49,
   "metadata": {},
   "outputs": [
    {
     "name": "stdout",
     "output_type": "stream",
     "text": [
      "🔥\n",
      "🔥🔥\n",
      "🔥🔥🔥\n",
      "🔥🔥🔥🔥\n",
      "🔥🔥🔥🔥🔥\n"
     ]
    }
   ],
   "source": [
    "for i in range(1, 6):\n",
    "    print(\"🔥\" * i)\n"
   ]
  },
  {
   "cell_type": "markdown",
   "metadata": {},
   "source": [
    "## Task 2.2 - Convert Task 1.2 with `for` loop"
   ]
  },
  {
   "cell_type": "code",
   "execution_count": 48,
   "metadata": {},
   "outputs": [
    {
     "name": "stdout",
     "output_type": "stream",
     "text": [
      "🍧\n",
      "🍧🍧\n",
      "🍧🍧🍧\n",
      "🍧🍧🍧🍧\n",
      "🍧🍧🍧🍧🍧\n",
      "🍧🍧🍧🍧🍧🍧\n",
      "🍧🍧🍧🍧🍧🍧🍧\n",
      "🍧🍧🍧🍧🍧🍧🍧🍧\n",
      "🍧🍧🍧🍧🍧🍧🍧🍧🍧\n",
      "🍧🍧🍧🍧🍧🍧🍧🍧🍧🍧\n",
      "🍧🍧🍧🍧🍧🍧🍧🍧🍧🍧🍧\n",
      "🍧🍧🍧🍧🍧🍧🍧🍧🍧🍧🍧🍧\n",
      "🍧🍧🍧🍧🍧🍧🍧🍧🍧🍧🍧🍧🍧\n",
      "🍧🍧🍧🍧🍧🍧🍧🍧🍧🍧🍧🍧🍧🍧\n",
      "🍧🍧🍧🍧🍧🍧🍧🍧🍧🍧🍧🍧🍧🍧🍧\n"
     ]
    }
   ],
   "source": [
    "rows = int(input(\"How mach you show tower rows?: \"))\n",
    "words = input(\"What do you show words?: \")\n",
    "\n",
    "for i in range(1, rows + 1):\n",
    "    print(words * i)\n"
   ]
  },
  {
   "cell_type": "code",
   "execution_count": 50,
   "metadata": {},
   "outputs": [
    {
     "name": "stdout",
     "output_type": "stream",
     "text": [
      "1\n",
      "3\n",
      "5\n",
      "7\n",
      "9\n",
      "11\n",
      "13\n",
      "15\n",
      "17\n",
      "19\n"
     ]
    }
   ],
   "source": [
    "for i in range(1,20,2):\n",
    "    print(i)"
   ]
  },
  {
   "cell_type": "markdown",
   "metadata": {},
   "source": [
    "## Task\n",
    "\n",
    "**Expected Output**\n",
    "\n",
    "4  \n",
    "16  \n",
    "36  \n",
    "64  \n",
    "100  \n",
    "144"
   ]
  },
  {
   "cell_type": "code",
   "execution_count": 56,
   "metadata": {},
   "outputs": [
    {
     "name": "stdout",
     "output_type": "stream",
     "text": [
      "4\n",
      "16\n",
      "36\n",
      "64\n",
      "100\n",
      "144\n"
     ]
    }
   ],
   "source": [
    "for i in range(2, 13, 2):\n",
    "    print(i**2)"
   ]
  }
 ],
 "metadata": {
  "kernelspec": {
   "display_name": "Python 3",
   "language": "python",
   "name": "python3"
  },
  "language_info": {
   "codemirror_mode": {
    "name": "ipython",
    "version": 3
   },
   "file_extension": ".py",
   "mimetype": "text/x-python",
   "name": "python",
   "nbconvert_exporter": "python",
   "pygments_lexer": "ipython3",
   "version": "3.13.0"
  }
 },
 "nbformat": 4,
 "nbformat_minor": 2
}
