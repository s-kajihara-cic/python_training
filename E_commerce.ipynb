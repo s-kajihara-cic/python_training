{
 "cells": [
  {
   "cell_type": "code",
   "execution_count": 79,
   "metadata": {},
   "outputs": [],
   "source": [
    "# Input Cate Data Structure (test data)\n",
    "cart = [\n",
    "    {\n",
    "        \"user_id\": 2,\n",
    "        \"product_id\": 1,\n",
    "        \"quantity\": 2\n",
    "    },\n",
    "    {\n",
    "        \"user_id\": 2,\n",
    "        \"product_id\": 2,\n",
    "        \"quantity\": 2\n",
    "    },\n",
    "    {\n",
    "        \"user_id\": 3,\n",
    "        \"product_id\": 1,\n",
    "        \"quantity\": 2\n",
    "    }\n",
    "]"
   ]
  },
  {
   "cell_type": "code",
   "execution_count": 61,
   "metadata": {},
   "outputs": [],
   "source": [
    "# Input Orders Data Structure (test data)\n",
    "\n",
    "orders = []"
   ]
  },
  {
   "cell_type": "code",
   "execution_count": 37,
   "metadata": {},
   "outputs": [],
   "source": [
    "# Insert products data (test data)\n",
    "\n",
    "products = [\n",
    "    {\n",
    "        \"id\": 1,\n",
    "        \"name\": \"Laptop\",\n",
    "        \"price\": 999.99,\n",
    "        \"stock\": 10\n",
    "    },\n",
    "    {\n",
    "        \"id\": 2,\n",
    "        \"name\": \"Smartphone\",\n",
    "        \"price\": 499.99,\n",
    "        \"stock\": 15\n",
    "    }\n",
    "]"
   ]
  },
  {
   "cell_type": "code",
   "execution_count": 2,
   "metadata": {},
   "outputs": [],
   "source": [
    "from datetime import datetime"
   ]
  },
  {
   "cell_type": "markdown",
   "metadata": {},
   "source": [
    "### Check Out"
   ]
  },
  {
   "cell_type": "code",
   "execution_count": null,
   "metadata": {},
   "outputs": [],
   "source": [
    "def find_product_price(product_id):\n",
    "    price = 0\n",
    "    for product in products:\n",
    "        if product[\"id\"] == product_id:\n",
    "            price = product[\"price\"]\n",
    "            break\n",
    "\n",
    "    return price\n",
    "\n",
    "def get_max_order_id():\n",
    "    order_id = 0\n",
    "    for order in orders:\n",
    "        if order_id < order['id']:\n",
    "            order_id < order['id']\n",
    "    return order_id\n",
    "\n",
    "def add_order_data_structure(carts, user_id):\n",
    "    items = []\n",
    "    total = 0\n",
    "    for item in carts:\n",
    "        dic = {\n",
    "            \"product_id\": item[\"product_id\"],\n",
    "            \"quantity\": item[\"quantity\"]            \n",
    "        }\n",
    "        items.append(dic)\n",
    "        total += find_product_price(item[\"product_id\"]) * item[\"quantity\"]\n",
    "\n",
    "    current_dateTime = datetime.now()\n",
    "    new_order = {\n",
    "        \"id\": get_max_order_id() + 1,\n",
    "        \"user_id\": user_id,\n",
    "        \"items\": items,\n",
    "        \"date\": current_dateTime.strftime(\"%Y-%m-%d, %H:%M:%S\"),\n",
    "        \"total\": total\n",
    "    }\n",
    "    orders.append(new_order)\n",
    "\n",
    "def delete_cart_data(carts, user_id):\n",
    "    return [x for x in carts if x['user_id'] != user_id]\n",
    "\n",
    "def check_out(carts, user_id):\n",
    "    user_cart = [item for item in carts if item[\"user_id\"] == user_id]\n",
    "    if len(user_cart) == 0:\n",
    "        print(\"Products not found.\")\n",
    "        return carts\n",
    "\n",
    "    answer = input(\"Is check out these items? Y/N\").lower()\n",
    "    new_cart_list = carts\n",
    "    if answer == \"y\":\n",
    "        add_order_data_structure(user_cart, user_id)\n",
    "        new_cart_list =delete_cart_data(carts, user_id)\n",
    "    return new_cart_list"
   ]
  },
  {
   "cell_type": "code",
   "execution_count": 91,
   "metadata": {},
   "outputs": [
    {
     "data": {
      "text/plain": [
       "[]"
      ]
     },
     "execution_count": 91,
     "metadata": {},
     "output_type": "execute_result"
    }
   ],
   "source": [
    "result = check_out(cart, 3)\n",
    "cart = result\n",
    "cart"
   ]
  },
  {
   "cell_type": "code",
   "execution_count": 92,
   "metadata": {},
   "outputs": [
    {
     "data": {
      "text/plain": [
       "[{'id': 1,\n",
       "  'user_id': 2,\n",
       "  'items': [{'product_id': 1, 'quantity': 2},\n",
       "   {'product_id': 2, 'quantity': 2}],\n",
       "  'date': '11/13/2024, 11:54:30',\n",
       "  'total': 2999.96},\n",
       " {'id': 1,\n",
       "  'user_id': 2,\n",
       "  'items': [{'product_id': 1, 'quantity': 2},\n",
       "   {'product_id': 2, 'quantity': 2}],\n",
       "  'date': '2024-11-13, 11:56:25',\n",
       "  'total': 2999.96},\n",
       " {'id': 1,\n",
       "  'user_id': 2,\n",
       "  'items': [{'product_id': 1, 'quantity': 2},\n",
       "   {'product_id': 2, 'quantity': 2}],\n",
       "  'date': '2024-11-13, 12:09:16',\n",
       "  'total': 2999.96},\n",
       " {'id': 1,\n",
       "  'user_id': 2,\n",
       "  'items': [{'product_id': 1, 'quantity': 2},\n",
       "   {'product_id': 2, 'quantity': 2}],\n",
       "  'date': '2024-11-13, 12:10:01',\n",
       "  'total': 2999.96},\n",
       " {'id': 1,\n",
       "  'user_id': 2,\n",
       "  'items': [{'product_id': 1, 'quantity': 2},\n",
       "   {'product_id': 2, 'quantity': 2}],\n",
       "  'date': '2024-11-13, 12:10:47',\n",
       "  'total': 2999.96},\n",
       " {'id': 1,\n",
       "  'user_id': 2,\n",
       "  'items': [{'product_id': 1, 'quantity': 2},\n",
       "   {'product_id': 2, 'quantity': 2}],\n",
       "  'date': '2024-11-13, 12:11:20',\n",
       "  'total': 2999.96},\n",
       " {'id': 1,\n",
       "  'user_id': 2,\n",
       "  'items': [{'product_id': 1, 'quantity': 2},\n",
       "   {'product_id': 2, 'quantity': 2}],\n",
       "  'date': '2024-11-13, 12:12:46',\n",
       "  'total': 2999.96},\n",
       " {'id': 1,\n",
       "  'user_id': 3,\n",
       "  'items': [{'product_id': 1, 'quantity': 2}],\n",
       "  'date': '2024-11-13, 12:12:57',\n",
       "  'total': 1999.98}]"
      ]
     },
     "execution_count": 92,
     "metadata": {},
     "output_type": "execute_result"
    }
   ],
   "source": [
    "orders"
   ]
  },
  {
   "cell_type": "markdown",
   "metadata": {},
   "source": [
    "### Oeder History"
   ]
  },
  {
   "cell_type": "code",
   "execution_count": 44,
   "metadata": {},
   "outputs": [],
   "source": [
    "from tabulate import tabulate\n"
   ]
  },
  {
   "cell_type": "code",
   "execution_count": 75,
   "metadata": {},
   "outputs": [],
   "source": [
    "def get_product(product_id):\n",
    "    product = None\n",
    "    for item in products:\n",
    "        if item[\"id\"] == product_id:\n",
    "            product = item\n",
    "            break\n",
    "    return product\n",
    "\n",
    "def show_order_history(user_id):\n",
    "    user_orders = [order for order in orders if order['user_id'] == user_id]\n",
    "    if len(user_orders) == 0:\n",
    "        print(\"Order is none.\")\n",
    "        return\n",
    "\n",
    "    print(\"=== Order History ===\")\n",
    "    for user_order in user_orders:\n",
    "        header = f\"\"\"\n",
    "Order ID: {user_order[\"id\"]}\n",
    "Date: {user_order[\"date\"]}\n",
    "        \"\"\"\n",
    "        print(header)\n",
    "        items = []\n",
    "        for item in user_order['items']:\n",
    "            product = get_product(item['product_id'])\n",
    "            order_item = {\n",
    "                \"Product\": product['name'],\n",
    "                \"Quantity\": item['quantity'], \n",
    "                \"Price\": f\"${product['price']}\",\n",
    "                \"Total\": f\"${product['price'] * item['quantity']}\"\n",
    "            }\n",
    "            items.append(order_item)\n",
    "        print(tabulate(items, headers=\"keys\", tablefmt=\"pretty\"))\n",
    "        print(f'Total Amount: {user_order[\"total\"]}')"
   ]
  },
  {
   "cell_type": "code",
   "execution_count": 76,
   "metadata": {},
   "outputs": [
    {
     "name": "stdout",
     "output_type": "stream",
     "text": [
      "=== Order History ===\n",
      "\n",
      "Order ID: 1\n",
      "Date: 11/13/2024, 11:54:30\n",
      "        \n",
      "+------------+----------+---------+----------+\n",
      "|  Product   | Quantity |  Price  |  Total   |\n",
      "+------------+----------+---------+----------+\n",
      "|   Laptop   |    2     | $999.99 | $1999.98 |\n",
      "| Smartphone |    2     | $499.99 | $999.98  |\n",
      "+------------+----------+---------+----------+\n",
      "Total Amount: 2999.96\n",
      "\n",
      "Order ID: 1\n",
      "Date: 2024-11-13, 11:56:25\n",
      "        \n",
      "+------------+----------+---------+----------+\n",
      "|  Product   | Quantity |  Price  |  Total   |\n",
      "+------------+----------+---------+----------+\n",
      "|   Laptop   |    2     | $999.99 | $1999.98 |\n",
      "| Smartphone |    2     | $499.99 | $999.98  |\n",
      "+------------+----------+---------+----------+\n",
      "Total Amount: 2999.96\n"
     ]
    }
   ],
   "source": [
    "show_order_history(2)"
   ]
  }
 ],
 "metadata": {
  "kernelspec": {
   "display_name": "myenv",
   "language": "python",
   "name": "python3"
  },
  "language_info": {
   "codemirror_mode": {
    "name": "ipython",
    "version": 3
   },
   "file_extension": ".py",
   "mimetype": "text/x-python",
   "name": "python",
   "nbconvert_exporter": "python",
   "pygments_lexer": "ipython3",
   "version": "3.13.0"
  }
 },
 "nbformat": 4,
 "nbformat_minor": 2
}
