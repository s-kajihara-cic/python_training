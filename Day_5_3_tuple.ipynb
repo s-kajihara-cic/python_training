{
 "cells": [
  {
   "cell_type": "markdown",
   "metadata": {},
   "source": [
    "# Tuple\n",
    "same as list but cannot midufy (cannot multate)"
   ]
  },
  {
   "cell_type": "code",
   "execution_count": 3,
   "metadata": {},
   "outputs": [
    {
     "data": {
      "text/plain": [
       "[100, 70, 90, 60]"
      ]
     },
     "execution_count": 3,
     "metadata": {},
     "output_type": "execute_result"
    }
   ],
   "source": [
    "marks = [80, 70, 90, 60]   # list\n",
    "marks[0] = 100\n",
    "\n",
    "marks"
   ]
  },
  {
   "cell_type": "markdown",
   "metadata": {},
   "source": [
    "## modifies list\n",
    "\n",
    "1. append\n",
    "2. insert\n",
    "3. pop\n",
    "4. remove"
   ]
  },
  {
   "cell_type": "code",
   "execution_count": 10,
   "metadata": {},
   "outputs": [
    {
     "data": {
      "text/plain": [
       "80"
      ]
     },
     "execution_count": 10,
     "metadata": {},
     "output_type": "execute_result"
    }
   ],
   "source": [
    "mark1 = (80, 70, 90, 60)  # tuple\n",
    "# mark1[1] = 100 # batsu\n",
    "mark1[0]"
   ]
  },
  {
   "cell_type": "markdown",
   "metadata": {},
   "source": [
    "## Not present in Tuple\n",
    "\n",
    "1. append\n",
    "2. insert\n",
    "3. pop\n",
    "4. remove"
   ]
  },
  {
   "cell_type": "code",
   "execution_count": null,
   "metadata": {},
   "outputs": [
    {
     "name": "stdout",
     "output_type": "stream",
     "text": [
      "(70, 90)\n",
      "2\n"
     ]
    }
   ],
   "source": [
    "mark1 = (80, 70, 90, 60, 80)  # tuple -> cannot change\n",
    "\n",
    "print(mark1[1:3])    # Slice does not modify\n",
    "print(mark1.count(80))"
   ]
  },
  {
   "cell_type": "code",
   "execution_count": 16,
   "metadata": {},
   "outputs": [
    {
     "name": "stdout",
     "output_type": "stream",
     "text": [
      "(90, 80, 60, 50)\n"
     ]
    }
   ],
   "source": [
    "t1 = (90, 80)\n",
    "t2 = (60, 50)\n",
    "\n",
    "print(t1 + t2)"
   ]
  },
  {
   "cell_type": "code",
   "execution_count": 18,
   "metadata": {},
   "outputs": [
    {
     "name": "stdout",
     "output_type": "stream",
     "text": [
      "('🍎', '🍊', '🍓', '🍍', '🥕', '🥒', '🍆', '🥔')\n"
     ]
    }
   ],
   "source": [
    "fruits = ('🍎', '🍊', '🍓', '🍍')\n",
    "vegitables = ('🥕','🥒','🍆','🥔')\n",
    "\n",
    "print(fruits + vegitables)"
   ]
  },
  {
   "cell_type": "code",
   "execution_count": 19,
   "metadata": {},
   "outputs": [
    {
     "data": {
      "text/plain": [
       "tuple"
      ]
     },
     "execution_count": 19,
     "metadata": {},
     "output_type": "execute_result"
    }
   ],
   "source": [
    "type(fruits)"
   ]
  },
  {
   "cell_type": "code",
   "execution_count": 20,
   "metadata": {},
   "outputs": [
    {
     "name": "stdout",
     "output_type": "stream",
     "text": [
      "10 20 30\n"
     ]
    }
   ],
   "source": [
    "a,b,c = (10, 20, 30)\n",
    "print(a,b,c)"
   ]
  },
  {
   "cell_type": "code",
   "execution_count": 24,
   "metadata": {},
   "outputs": [
    {
     "name": "stdout",
     "output_type": "stream",
     "text": [
      "60 80 90 100\n"
     ]
    }
   ],
   "source": [
    "t1, t2, t3, t4 = (60, 80, 90, 100)\n",
    "\n",
    "print(t1, t2, t3, t4)"
   ]
  },
  {
   "cell_type": "code",
   "execution_count": 25,
   "metadata": {},
   "outputs": [
    {
     "name": "stdout",
     "output_type": "stream",
     "text": [
      "60 80 100\n"
     ]
    }
   ],
   "source": [
    "t1, t2, _, t3 = (60, 80, 90, 100)\n",
    "\n",
    "print(t1, t2, t3)"
   ]
  },
  {
   "cell_type": "code",
   "execution_count": 29,
   "metadata": {},
   "outputs": [
    {
     "name": "stdout",
     "output_type": "stream",
     "text": [
      "🦸‍♂️ Batman 🦸‍♂️ Superman\n"
     ]
    }
   ],
   "source": [
    "# Unpack only Badman & Superman\n",
    "american_comics = [\"🦸‍♂️ Batman\", \"🦸‍♂️ Superman\", \"🦹‍♂️ Joker\", \"🦹‍♀️ Harley Quinn\"]\n",
    "\n",
    "batman, superman, _, _ = american_comics\n",
    "\n",
    "print(batman, superman)"
   ]
  },
  {
   "cell_type": "markdown",
   "metadata": {},
   "source": [
    "## Task 1.2 (With Unpacking)\n",
    "\n",
    "```py\n",
    "points = [(3, 4), (6, 12) , (10, 13)]\n",
    "```\n",
    "\n",
    "## Expected Output\n",
    "\n",
    "```py\n",
    "distances = [5, 13, 12.45]\n",
    "```"
   ]
  },
  {
   "cell_type": "code",
   "execution_count": 33,
   "metadata": {},
   "outputs": [
    {
     "name": "stdout",
     "output_type": "stream",
     "text": [
      "distance = [5.0, 13.42, 16.4]\n"
     ]
    }
   ],
   "source": [
    "points = [(3,4), (6,12), (10, 13)]\n",
    "distances = [round((x**2 + y**2)**0.5, 2) for x, y in points]\n",
    "print(f\"distance = {distances}\")"
   ]
  }
 ],
 "metadata": {
  "kernelspec": {
   "display_name": "Python 3",
   "language": "python",
   "name": "python3"
  },
  "language_info": {
   "codemirror_mode": {
    "name": "ipython",
    "version": 3
   },
   "file_extension": ".py",
   "mimetype": "text/x-python",
   "name": "python",
   "nbconvert_exporter": "python",
   "pygments_lexer": "ipython3",
   "version": "3.13.0"
  }
 },
 "nbformat": 4,
 "nbformat_minor": 2
}
