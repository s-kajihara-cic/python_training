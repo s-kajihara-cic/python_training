{
 "cells": [
  {
   "cell_type": "markdown",
   "metadata": {},
   "source": [
    "# Functions\n",
    "\n",
    "- Reuse logic\n",
    "- Update the logic in one place"
   ]
  },
  {
   "cell_type": "code",
   "execution_count": 1,
   "metadata": {},
   "outputs": [
    {
     "name": "stdout",
     "output_type": "stream",
     "text": [
      "7\n"
     ]
    }
   ],
   "source": [
    "n1 = 3\n",
    "n2 = 4\n",
    "\n",
    "t_sum = n1 + n2\n",
    "\n",
    "print(t_sum)"
   ]
  },
  {
   "cell_type": "markdown",
   "metadata": {},
   "source": [
    "## Define Finction"
   ]
  },
  {
   "cell_type": "code",
   "execution_count": 2,
   "metadata": {},
   "outputs": [],
   "source": [
    "def add(n1, n2):\n",
    "    n_sum = n1 + n2\n",
    "    return round(n_sum, 2)  # Return back to the call\n"
   ]
  },
  {
   "cell_type": "markdown",
   "metadata": {},
   "source": [
    "## Call the function"
   ]
  },
  {
   "cell_type": "code",
   "execution_count": 3,
   "metadata": {},
   "outputs": [
    {
     "data": {
      "text/plain": [
       "11"
      ]
     },
     "execution_count": 3,
     "metadata": {},
     "output_type": "execute_result"
    }
   ],
   "source": [
    "ret = add(5, 6)\n",
    "\n",
    "ret"
   ]
  },
  {
   "cell_type": "code",
   "execution_count": 4,
   "metadata": {},
   "outputs": [
    {
     "name": "stdout",
     "output_type": "stream",
     "text": [
      "35\n",
      "350\n",
      "260.68\n"
     ]
    }
   ],
   "source": [
    "print(add(15, 20))\n",
    "print(add(150, 200))\n",
    "print(add(60.5656, 200.1111))"
   ]
  },
  {
   "cell_type": "markdown",
   "metadata": {},
   "source": [
    "## Terms of finction\n",
    "- Function name\n",
    "- Function body\n",
    "- Prameters\n",
    "- Arguments\n",
    "- Declaration\n",
    "- Call\n",
    "\n",
    "```py\n",
    "# Declaration\n",
    "def add(n1, n2):\n",
    "# add : Function name\n",
    "# n1, n2 : Prameters\n",
    "    # Function body\n",
    "    n_sum = n1 + n2\n",
    "    return round(n_sum, 2)  # Return back to the call\n",
    "\n",
    "# add : call\n",
    "# 5,6 : arguments\n",
    "add(5, 6)\n",
    "```\n",
    "\n",
    "How many minimum no. of paremter? : 0  \n",
    "What data types should be the argument? : any (str, bool, and so on)"
   ]
  },
  {
   "cell_type": "code",
   "execution_count": 5,
   "metadata": {},
   "outputs": [],
   "source": [
    "def fire():\n",
    "    \"\"\"output fire\"\"\"\n",
    "    i = 1\n",
    "\n",
    "    while i <= 5:\n",
    "        print(\"🔥\" * i)\n",
    "        i += 1"
   ]
  },
  {
   "cell_type": "code",
   "execution_count": 6,
   "metadata": {},
   "outputs": [
    {
     "name": "stdout",
     "output_type": "stream",
     "text": [
      "🔥\n",
      "🔥🔥\n",
      "🔥🔥🔥\n",
      "🔥🔥🔥🔥\n",
      "🔥🔥🔥🔥🔥\n",
      "🔥\n",
      "🔥🔥\n",
      "🔥🔥🔥\n",
      "🔥🔥🔥🔥\n",
      "🔥🔥🔥🔥🔥\n"
     ]
    }
   ],
   "source": [
    "fire()\n",
    "fire()\n"
   ]
  },
  {
   "cell_type": "code",
   "execution_count": 7,
   "metadata": {},
   "outputs": [],
   "source": [
    "def fire(max_lines, emoji):\n",
    "    \"\"\"\n",
    "    output fire emoji\n",
    "    \n",
    "    parms:\n",
    "    - max_lines: output max lines\n",
    "    - emoji: specify want to show emoji\n",
    "    \"\"\"\n",
    "    i = 1\n",
    "    while i <= max_lines:\n",
    "        print(emoji * i)\n",
    "        i += 1"
   ]
  },
  {
   "cell_type": "code",
   "execution_count": 8,
   "metadata": {},
   "outputs": [
    {
     "name": "stdout",
     "output_type": "stream",
     "text": [
      "🍓\n",
      "🍓🍓\n",
      "🍆\n",
      "🍆🍆\n",
      "🍆🍆🍆\n",
      "🍆🍆🍆🍆\n",
      "🍆🍆🍆🍆🍆\n",
      "🍆🍆🍆🍆🍆🍆\n",
      "🥕\n",
      "🥕🥕\n",
      "🥕🥕🥕\n",
      "🥕🥕🥕🥕\n",
      "🥕🥕🥕🥕🥕\n",
      "🥕🥕🥕🥕🥕🥕\n",
      "🥕🥕🥕🥕🥕🥕🥕\n",
      "🥕🥕🥕🥕🥕🥕🥕🥕\n",
      "🥕🥕🥕🥕🥕🥕🥕🥕🥕\n",
      "🥕🥕🥕🥕🥕🥕🥕🥕🥕🥕\n",
      "🥕🥕🥕🥕🥕🥕🥕🥕🥕🥕🥕\n",
      "🥕🥕🥕🥕🥕🥕🥕🥕🥕🥕🥕🥕\n",
      "🥕🥕🥕🥕🥕🥕🥕🥕🥕🥕🥕🥕🥕\n",
      "🥕🥕🥕🥕🥕🥕🥕🥕🥕🥕🥕🥕🥕🥕\n",
      "🥕🥕🥕🥕🥕🥕🥕🥕🥕🥕🥕🥕🥕🥕🥕\n"
     ]
    }
   ],
   "source": [
    "fire(2, \"🍓\")\n",
    "fire(6, \"🍆\")\n",
    "fire(15, \"🥕\")"
   ]
  },
  {
   "cell_type": "markdown",
   "metadata": {},
   "source": [
    "## Tasks\n",
    " \n",
    "1. `get_total_items(shop)` -> 50\n",
    "2. `get_shop_value(shop)` -> 19"
   ]
  },
  {
   "cell_type": "code",
   "execution_count": 25,
   "metadata": {},
   "outputs": [],
   "source": [
    "shop = [\n",
    "    {\"name\": \"Apple\", \"quantity\": 30, \"price\": 0.50}, # 15\n",
    "    {\"name\": \"Banana\", \"quantity\": 20, \"price\": 0.20}, # 4\n",
    "]"
   ]
  },
  {
   "cell_type": "code",
   "execution_count": 10,
   "metadata": {},
   "outputs": [],
   "source": [
    "# Task 1.1\n",
    "def get_total_items(shop: dict):\n",
    "    \"\"\"\n",
    "    Calc shop total items\n",
    "\n",
    "    Params:\n",
    "        shop : Calc shop data.  \n",
    "            Format -> {\"name\": string, \"quantity\": integer, \"price\": float} \n",
    "\n",
    "    Return:\n",
    "        shop total items\n",
    "        type: integer\n",
    "    \"\"\"\n",
    "    total_items = 0\n",
    "    for item in shop:\n",
    "        total_items += item[\"quantity\"]\n",
    "    return total_items"
   ]
  },
  {
   "cell_type": "code",
   "execution_count": null,
   "metadata": {},
   "outputs": [],
   "source": [
    "def get_total_items(shop: dict):\n",
    "    \"\"\"\n",
    "    Calc shop total items\n",
    "\n",
    "    Params:\n",
    "        shop : Calc shop data.  \n",
    "            Format -> {\"name\": string, \"quantity\": integer, \"price\": float} \n",
    "\n",
    "    Return:\n",
    "        shop total items\n",
    "        type: integer\n",
    "    \"\"\"\n",
    "    return sum([item[\"quantity\"] for item in shop])\n"
   ]
  },
  {
   "cell_type": "code",
   "execution_count": 11,
   "metadata": {},
   "outputs": [
    {
     "data": {
      "text/plain": [
       "50"
      ]
     },
     "execution_count": 11,
     "metadata": {},
     "output_type": "execute_result"
    }
   ],
   "source": [
    "get_total_items(shop)"
   ]
  },
  {
   "cell_type": "code",
   "execution_count": 12,
   "metadata": {},
   "outputs": [],
   "source": [
    "# Task 1.2\n",
    "def get_shop_value(shop: dict):\n",
    "    \"\"\"\n",
    "    Calc shop value\n",
    "\n",
    "    Params:\n",
    "        shop : Calc shop data.  \n",
    "            Format -> {\"name\": string, \"quantity\": integer, \"price\": float} \n",
    "\n",
    "    Return:\n",
    "        shop value\n",
    "        type: integer\n",
    "    \"\"\"\n",
    "    shop_value = 0\n",
    "    for item in shop:\n",
    "        shop_value += item[\"quantity\"] * item[\"price\"]\n",
    "    return shop_value"
   ]
  },
  {
   "cell_type": "code",
   "execution_count": null,
   "metadata": {},
   "outputs": [],
   "source": [
    "def get_shop_value(shop: dict):\n",
    "    \"\"\"\n",
    "    Calc shop value\n",
    "\n",
    "    Params:\n",
    "        shop : Calc shop data.  \n",
    "            Format -> {\"name\": string, \"quantity\": integer, \"price\": float} \n",
    "\n",
    "    Return:\n",
    "        shop value\n",
    "        type: integer\n",
    "    \"\"\"\n",
    "    return sum([item[\"quantity\"] * item[\"price\"] for item in shop])"
   ]
  },
  {
   "cell_type": "code",
   "execution_count": 13,
   "metadata": {},
   "outputs": [
    {
     "data": {
      "text/plain": [
       "19.0"
      ]
     },
     "execution_count": 13,
     "metadata": {},
     "output_type": "execute_result"
    }
   ],
   "source": [
    "get_shop_value(shop)"
   ]
  },
  {
   "cell_type": "markdown",
   "metadata": {},
   "source": [
    "## Task 1\n",
    "\n",
    "`add_new_product(shop)`\n",
    "\n",
    "\n",
    "Expected Output\n",
    "```\n",
    "What is the product name? Orange\n",
    "What is the quantity? 50\n",
    "What is the price? 0.30\n",
    "Added Orange to shop.\n",
    "```\n",
    "\n",
    "`print(shop)`"
   ]
  },
  {
   "cell_type": "code",
   "execution_count": 14,
   "metadata": {},
   "outputs": [],
   "source": [
    "def add_new_product(shop: list):\n",
    "    product_name = input(\"What is the product name?\")\n",
    "    quantity = input(\"What is the quantity?\")\n",
    "    price = input(\"What is the price?\")\n",
    "    new_product = {\n",
    "        \"name\": product_name,\n",
    "        \"quantity\": int(quantity),\n",
    "        \"price\": float(price)\n",
    "    }\n",
    "    shop.append(new_product)\n",
    "    print(f\"Added {product_name} to shop.\")"
   ]
  },
  {
   "cell_type": "code",
   "execution_count": 15,
   "metadata": {},
   "outputs": [
    {
     "name": "stdout",
     "output_type": "stream",
     "text": [
      "Added Orange to shop.\n"
     ]
    },
    {
     "data": {
      "text/plain": [
       "[{'name': 'Apple', 'quantity': 30, 'price': 0.5},\n",
       " {'name': 'Banana', 'quantity': 20, 'price': 0.2},\n",
       " {'name': 'Orange', 'quantity': 50, 'price': 0.3}]"
      ]
     },
     "execution_count": 15,
     "metadata": {},
     "output_type": "execute_result"
    }
   ],
   "source": [
    "add_new_product(shop)\n",
    "shop"
   ]
  },
  {
   "cell_type": "markdown",
   "metadata": {},
   "source": [
    "## Task 2\n",
    "\n",
    "Do you add more Y/N? Y"
   ]
  },
  {
   "cell_type": "code",
   "execution_count": 16,
   "metadata": {},
   "outputs": [],
   "source": [
    "def check_add_more():\n",
    "    \"\"\"\n",
    "    If user writes 'y/Y' then return True, else return False.\n",
    "    \"\"\"\n",
    "    answer = input(\"Do you add more Y/N?\")\n",
    "    return answer.lower() == \"y\""
   ]
  },
  {
   "cell_type": "code",
   "execution_count": 29,
   "metadata": {},
   "outputs": [],
   "source": [
    "from tabulate import tabulate"
   ]
  },
  {
   "cell_type": "code",
   "execution_count": 33,
   "metadata": {},
   "outputs": [
    {
     "name": "stdout",
     "output_type": "stream",
     "text": [
      "------------  ---  ---\n",
      "Apple          30  0.5\n",
      "Banana         20  0.2\n",
      "Orange🍊       50  0.3\n",
      "Watermelon🍉  100  0.8\n",
      "melon🍈        80  0.6\n",
      "🍓             60  0.2\n",
      "------------  ---  ---\n"
     ]
    }
   ],
   "source": [
    "def sub_menu():\n",
    "    while True:\n",
    "        add_new_product(shop)\n",
    "        if not check_add_more():\n",
    "            break\n",
    "\n",
    "sub_menu()\n",
    "print(tabulate(shop))"
   ]
  },
  {
   "cell_type": "markdown",
   "metadata": {},
   "source": [
    "## Task 3\n",
    "\n",
    "Main Menu\n",
    "1. Add Product\n",
    "2. Print all product in shop\n",
    "3. Exit"
   ]
  },
  {
   "cell_type": "code",
   "execution_count": 18,
   "metadata": {},
   "outputs": [],
   "source": [
    "shop = [\n",
    "    {\"name\": \"Apple\", \"quantity\": 30, \"price\": 0.50}, # 15\n",
    "    {\"name\": \"Banana\", \"quantity\": 20, \"price\": 0.20}, # 4\n",
    "]"
   ]
  },
  {
   "cell_type": "code",
   "execution_count": 19,
   "metadata": {},
   "outputs": [],
   "source": [
    "def print_specific_format(shop):\n",
    "    if len(shop) == 0:\n",
    "        return\n",
    "    \n",
    "    print('[')\n",
    "    for item in shop:\n",
    "        print(f\"    {item}\")\n",
    "    print(']')"
   ]
  },
  {
   "cell_type": "code",
   "execution_count": 20,
   "metadata": {},
   "outputs": [],
   "source": [
    "function_list = {\n",
    "    \"1\": add_new_product,\n",
    "    \"2\": print_specific_format,\n",
    "}"
   ]
  },
  {
   "cell_type": "code",
   "execution_count": 27,
   "metadata": {},
   "outputs": [],
   "source": [
    "input_message = \"\"\"\n",
    "Main Menu\n",
    "1. Add Product\n",
    "2. Print all product in shop\n",
    "3. Exit\n",
    "\"\"\"\n",
    "\n",
    "def main():\n",
    "    while True:\n",
    "        print(input_message)\n",
    "        answer = input(\"Please Tell me the number of you want to run:\")\n",
    "        if answer in function_list:\n",
    "            function_list[answer](shop)\n",
    "        elif answer == \"3\":\n",
    "            print(\"Quit the program.\")\n",
    "            break\n",
    "        else:\n",
    "            print(\"Please write between 1 to 3.\")"
   ]
  },
  {
   "cell_type": "code",
   "execution_count": 28,
   "metadata": {},
   "outputs": [
    {
     "name": "stdout",
     "output_type": "stream",
     "text": [
      "\n",
      "Main Menu\n",
      "1. Add Product\n",
      "2. Print all product in shop\n",
      "3. Exit\n",
      "\n",
      "[\n",
      "    {'name': 'Apple', 'quantity': 30, 'price': 0.5}\n",
      "    {'name': 'Banana', 'quantity': 20, 'price': 0.2}\n",
      "    {'name': 'Orange🍊', 'quantity': 50, 'price': 0.3}\n",
      "    {'name': 'Watermelon🍉', 'quantity': 100, 'price': 0.8}\n",
      "]\n",
      "\n",
      "Main Menu\n",
      "1. Add Product\n",
      "2. Print all product in shop\n",
      "3. Exit\n",
      "\n",
      "Added melon🍈 to shop.\n",
      "\n",
      "Main Menu\n",
      "1. Add Product\n",
      "2. Print all product in shop\n",
      "3. Exit\n",
      "\n",
      "[\n",
      "    {'name': 'Apple', 'quantity': 30, 'price': 0.5}\n",
      "    {'name': 'Banana', 'quantity': 20, 'price': 0.2}\n",
      "    {'name': 'Orange🍊', 'quantity': 50, 'price': 0.3}\n",
      "    {'name': 'Watermelon🍉', 'quantity': 100, 'price': 0.8}\n",
      "    {'name': 'melon🍈', 'quantity': 80, 'price': 0.6}\n",
      "]\n",
      "\n",
      "Main Menu\n",
      "1. Add Product\n",
      "2. Print all product in shop\n",
      "3. Exit\n",
      "\n",
      "Quit the program.\n"
     ]
    }
   ],
   "source": [
    "main()"
   ]
  },
  {
   "cell_type": "code",
   "execution_count": 1,
   "metadata": {},
   "outputs": [
    {
     "name": "stdout",
     "output_type": "stream",
     "text": [
      "------  --  ---\n",
      "Apple   30  0.5\n",
      "Banana  20  0.2\n",
      "------  --  ---\n",
      "name      quantity    price\n",
      "------  ----------  -------\n",
      "Apple           30      0.5\n",
      "Banana          20      0.2\n",
      "+--------+----------+-------+\n",
      "|  name  | quantity | price |\n",
      "+--------+----------+-------+\n",
      "| Apple  |    30    |  0.5  |\n",
      "| Banana |    20    |  0.2  |\n",
      "+--------+----------+-------+\n"
     ]
    }
   ],
   "source": [
    "from tabulate import tabulate\n",
    "\n",
    "shop = [\n",
    "    {\"name\": \"Apple\", \"quantity\": 30, \"price\": 0.50},  # 15\n",
    "    {\"name\": \"Banana\", \"quantity\": 20, \"price\": 0.20},  # 4\n",
    "]\n",
    "\n",
    "print(tabulate(shop))\n",
    "print(tabulate(shop, headers=\"keys\"))\n",
    "print(tabulate(shop, headers=\"keys\", tablefmt=\"pretty\"))"
   ]
  }
 ],
 "metadata": {
  "kernelspec": {
   "display_name": "myenv",
   "language": "python",
   "name": "python3"
  },
  "language_info": {
   "codemirror_mode": {
    "name": "ipython",
    "version": 3
   },
   "file_extension": ".py",
   "mimetype": "text/x-python",
   "name": "python",
   "nbconvert_exporter": "python",
   "pygments_lexer": "ipython3",
   "version": "3.13.0"
  }
 },
 "nbformat": 4,
 "nbformat_minor": 2
}
