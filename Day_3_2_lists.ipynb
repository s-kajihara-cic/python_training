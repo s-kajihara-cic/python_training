{
 "cells": [
  {
   "cell_type": "markdown",
   "metadata": {},
   "source": [
    "# Lists\n",
    "\n",
    "Hold multiple values\n",
    "\n",
    "## CRUD\n",
    "- Create ✅  - `marks = [80, 90, 100, 60, 85]`\n",
    "- Read   ✅  - `index`, `negative index` & `slice (:)`\n",
    "- Update ✅  - `index`, `append` &  `insert` \n",
    "- Delete ✅  - `remove` & `pop`\n"
   ]
  },
  {
   "cell_type": "code",
   "execution_count": 1,
   "metadata": {},
   "outputs": [],
   "source": [
    "mark1 = 60\n",
    "mark2 = 80\n",
    "mark3 = 70\n",
    "\n",
    "# Can we have valiable holding multiple values?"
   ]
  },
  {
   "cell_type": "markdown",
   "metadata": {},
   "source": [
    "### Create"
   ]
  },
  {
   "cell_type": "code",
   "execution_count": 2,
   "metadata": {},
   "outputs": [
    {
     "name": "stdout",
     "output_type": "stream",
     "text": [
      "[60, 80, 70, 90, 50]\n"
     ]
    }
   ],
   "source": [
    "marks = [60, 80, 70, 90, 50]\n",
    "\n",
    "print(marks)"
   ]
  },
  {
   "cell_type": "markdown",
   "metadata": {},
   "source": [
    "### Read\n",
    "\n",
    "- Index\n",
    "- Negative\n",
    "- Slice"
   ]
  },
  {
   "cell_type": "code",
   "execution_count": 3,
   "metadata": {},
   "outputs": [
    {
     "data": {
      "text/plain": [
       "80"
      ]
     },
     "execution_count": 3,
     "metadata": {},
     "output_type": "execute_result"
    }
   ],
   "source": [
    "marks[1] # reading value"
   ]
  },
  {
   "cell_type": "code",
   "execution_count": 4,
   "metadata": {},
   "outputs": [
    {
     "data": {
      "text/plain": [
       "50"
      ]
     },
     "execution_count": 4,
     "metadata": {},
     "output_type": "execute_result"
    }
   ],
   "source": [
    "marks[-1] # negative index"
   ]
  },
  {
   "cell_type": "code",
   "execution_count": 5,
   "metadata": {},
   "outputs": [
    {
     "data": {
      "text/plain": [
       "[70, 90, 50]"
      ]
     },
     "execution_count": 5,
     "metadata": {},
     "output_type": "execute_result"
    }
   ],
   "source": [
    "marks[2:] #slice"
   ]
  },
  {
   "cell_type": "code",
   "execution_count": 6,
   "metadata": {},
   "outputs": [
    {
     "data": {
      "text/plain": [
       "[50, 90, 70, 80, 60]"
      ]
     },
     "execution_count": 6,
     "metadata": {},
     "output_type": "execute_result"
    }
   ],
   "source": [
    "marks[::-1]"
   ]
  },
  {
   "cell_type": "markdown",
   "metadata": {},
   "source": [
    "### Update"
   ]
  },
  {
   "cell_type": "code",
   "execution_count": 7,
   "metadata": {},
   "outputs": [
    {
     "name": "stdout",
     "output_type": "stream",
     "text": [
      "[60, 95, 70, 90, 50]\n"
     ]
    }
   ],
   "source": [
    "marks[1] = 95 # index update value\n",
    "\n",
    "print(marks)"
   ]
  },
  {
   "cell_type": "code",
   "execution_count": 8,
   "metadata": {},
   "outputs": [
    {
     "data": {
      "text/plain": [
       "[60, 95, 70, 90, 50, 80]"
      ]
     },
     "execution_count": 8,
     "metadata": {},
     "output_type": "execute_result"
    }
   ],
   "source": [
    "marks.append(80) # always adds at last\n",
    "\n",
    "marks"
   ]
  },
  {
   "cell_type": "markdown",
   "metadata": {},
   "source": [
    "`marks.insert(0, 70)`"
   ]
  },
  {
   "cell_type": "code",
   "execution_count": 9,
   "metadata": {},
   "outputs": [
    {
     "data": {
      "text/plain": [
       "[70, 60, 95, 70, 90, 50, 80]"
      ]
     },
     "execution_count": 9,
     "metadata": {},
     "output_type": "execute_result"
    }
   ],
   "source": [
    "marks.insert(0, 70) # Insert in anywhere\n",
    "\n",
    "marks"
   ]
  },
  {
   "cell_type": "markdown",
   "metadata": {},
   "source": [
    "## Delete\n",
    "- `pop()`\n",
    "- `remove()`\n"
   ]
  },
  {
   "cell_type": "code",
   "execution_count": 10,
   "metadata": {},
   "outputs": [
    {
     "data": {
      "text/plain": [
       "95"
      ]
     },
     "execution_count": 10,
     "metadata": {},
     "output_type": "execute_result"
    }
   ],
   "source": [
    "marks.pop(2) # Based on index"
   ]
  },
  {
   "cell_type": "code",
   "execution_count": 11,
   "metadata": {},
   "outputs": [
    {
     "data": {
      "text/plain": [
       "[60, 70, 90, 50, 80]"
      ]
     },
     "execution_count": 11,
     "metadata": {},
     "output_type": "execute_result"
    }
   ],
   "source": [
    "marks.remove(70)\n",
    "\n",
    "marks"
   ]
  },
  {
   "cell_type": "code",
   "execution_count": 12,
   "metadata": {},
   "outputs": [],
   "source": [
    "characters = ['Hello kitty', 'Goku', 'Pikachu', 'Luffy', 'Yuji Itadori', \"Levi\"]\n"
   ]
  },
  {
   "cell_type": "code",
   "execution_count": 13,
   "metadata": {},
   "outputs": [
    {
     "name": "stdout",
     "output_type": "stream",
     "text": [
      "0 Hello kitty\n",
      "1 Goku\n",
      "2 Pikachu\n",
      "3 Luffy\n",
      "4 Yuji Itadori\n",
      "5 Levi\n"
     ]
    }
   ],
   "source": [
    "# Clue: len()\n",
    "for i in range(len(characters)):\n",
    "    print(i, characters[i])\n"
   ]
  },
  {
   "cell_type": "code",
   "execution_count": 14,
   "metadata": {},
   "outputs": [
    {
     "data": {
      "text/plain": [
       "[60, 70, 90, 50, 80]"
      ]
     },
     "execution_count": 14,
     "metadata": {},
     "output_type": "execute_result"
    }
   ],
   "source": [
    "marks"
   ]
  },
  {
   "cell_type": "code",
   "execution_count": 15,
   "metadata": {},
   "outputs": [
    {
     "name": "stdout",
     "output_type": "stream",
     "text": [
      "120\n",
      "140\n",
      "180\n",
      "100\n",
      "160\n"
     ]
    }
   ],
   "source": [
    "for i in range(len(marks)):\n",
    "    print(marks[i] * 2)"
   ]
  },
  {
   "cell_type": "code",
   "execution_count": 16,
   "metadata": {},
   "outputs": [
    {
     "name": "stdout",
     "output_type": "stream",
     "text": [
      "0 Hello kitty\n",
      "1 Goku\n",
      "2 Pikachu\n",
      "3 Luffy\n",
      "4 Yuji Itadori\n",
      "5 Levi\n"
     ]
    }
   ],
   "source": [
    "for i, char in enumerate(characters):\n",
    "    print(i, char)\n"
   ]
  },
  {
   "cell_type": "code",
   "execution_count": 17,
   "metadata": {},
   "outputs": [
    {
     "name": "stdout",
     "output_type": "stream",
     "text": [
      "powers -> [4000, 6000, 8000, 3000, 9000]\n"
     ]
    }
   ],
   "source": [
    "# Task 1.1: Double the power\n",
    "powers = [2000, 3000, 4000, 1500, 4500]\n",
    "\n",
    "\n",
    "# Output\n",
    "# powers -> [4000, 6000, 8000, 3000, 9000]\n",
    "for i in range(len(powers)):\n",
    "    powers[i] = powers[i] * 2\n",
    "\n",
    "print(\"powers ->\", powers)"
   ]
  },
  {
   "cell_type": "code",
   "execution_count": 40,
   "metadata": {},
   "outputs": [
    {
     "name": "stdout",
     "output_type": "stream",
     "text": [
      "doubled_powers -> [4000, 6000, 8000, 3000, 9000]\n",
      "powers -> [2000, 3000, 4000, 1500, 4500]\n"
     ]
    }
   ],
   "source": [
    "# Task 1.2: Double the power\n",
    "powers = [2000, 3000, 4000, 1500, 4500]\n",
    "\n",
    "\n",
    "# Output\n",
    "# doubled_powers -> [4000, 6000, 8000, 3000, 9000]\n",
    "# powers -> [2000, 3000, 4000, 1500, 4500]\n",
    "doubled_powers = []\n",
    "for i in range(len(powers)):\n",
    "    doubled_powers.append(powers[i] * 2)\n",
    "\n",
    "print(\"doubled_powers ->\", doubled_powers)\n",
    "print(\"powers ->\", powers)"
   ]
  },
  {
   "cell_type": "code",
   "execution_count": null,
   "metadata": {},
   "outputs": [
    {
     "name": "stdout",
     "output_type": "stream",
     "text": [
      "doubled_powers -> [4000, 6000, 8000, 3000, 9000]\n",
      "powers -> [2000, 3000, 4000, 1500, 4500]\n"
     ]
    }
   ],
   "source": [
    "doubled_powers = [x * 2 for x in powers]\n",
    "\n",
    "print(\"doubled_powers ->\", doubled_powers)\n",
    "print(\"powers ->\", powers)"
   ]
  },
  {
   "cell_type": "markdown",
   "metadata": {},
   "source": [
    "## Task 2.1\n",
    "Find longer names (>= 6 letter)\n",
    "\n",
    "`characters = ['Hello kitty', 'Goku', 'Pikachu', 'Luffy', 'Yuji Itadori', \"Levi\"]`\n",
    "\n",
    "Expected Output\n",
    "`['Hello kitty', 'Pikachu', 'Yuji Itadori']`\n"
   ]
  },
  {
   "cell_type": "code",
   "execution_count": 22,
   "metadata": {},
   "outputs": [
    {
     "name": "stdout",
     "output_type": "stream",
     "text": [
      "['Hello kitty', 'Pikachu', 'Yuji Itadori']\n"
     ]
    }
   ],
   "source": [
    "characters = ['Hello kitty', 'Goku', 'Pikachu', 'Luffy', 'Yuji Itadori', \"Levi\"]\n",
    "\n",
    "long_name_chars = []\n",
    "for char in characters:\n",
    "    if len(char) >= 6:\n",
    "        long_name_chars.append(char)\n",
    "\n",
    "print(long_name_chars)"
   ]
  },
  {
   "cell_type": "code",
   "execution_count": 25,
   "metadata": {},
   "outputs": [
    {
     "data": {
      "text/plain": [
       "['Hello kitty', 'Pikachu', 'Yuji Itadori']"
      ]
     },
     "execution_count": 25,
     "metadata": {},
     "output_type": "execute_result"
    }
   ],
   "source": [
    "long_name_chars = [char for char in characters if len(char) >= 6]\n",
    "long_name_chars"
   ]
  },
  {
   "cell_type": "code",
   "execution_count": 29,
   "metadata": {},
   "outputs": [
    {
     "name": "stdout",
     "output_type": "stream",
     "text": [
      "[\n",
      "    Hello kitty,\n",
      "    Pikachu,\n",
      "    Yuji Itadori,\n",
      "]\n"
     ]
    }
   ],
   "source": [
    "characters = ['Hello kitty', 'Goku', 'Pikachu', 'Luffy', 'Yuji Itadori', \"Levi\"]\n",
    "\n",
    "print(\"[\")\n",
    "for char in characters:\n",
    "    if len(char) >= 6:\n",
    "        print(f\"    {char},\")\n",
    "print(\"]\")\n"
   ]
  },
  {
   "cell_type": "markdown",
   "metadata": {},
   "source": [
    "## Task 2.2\n",
    "\n",
    "Calculate the total of shopping_items & apply tax of 10%\n",
    "\n",
    "```py\n",
    "shopping_items = [1000, 5000,  4000, 2000, 3000]\n",
    "```\n",
    "\n",
    "Expected Output\n",
    "\n",
    "```\n",
    "Your totals is 15,000\n",
    "Tax is 10%      1,500 \n",
    "Your grand total is 16,500\n",
    "```"
   ]
  },
  {
   "cell_type": "code",
   "execution_count": null,
   "metadata": {},
   "outputs": [
    {
     "name": "stdout",
     "output_type": "stream",
     "text": [
      "\n",
      "Your totals is  15,000\n",
      "Tax is 10.0%       1,500.0\n",
      "Your grand total is  16,500.0\n",
      "\n"
     ]
    }
   ],
   "source": [
    "# Numberlic separator\n",
    "shopping_items = [1000, 5000,  4000, 2000, 3000]\n",
    "total = 0\n",
    "tax_percent = 0.1\n",
    "\n",
    "for item in shopping_items:\n",
    "    total += item\n",
    "\n",
    "tax = total * tax_percent\n",
    "\n",
    "# Formatting Output -> UX\n",
    "output = f\"\"\"\n",
    "Your totals is {total: ,}\n",
    "Tax is {tax_percent * 100}%      {tax: ,}\n",
    "Your grand total is {total + tax: ,}\n",
    "\"\"\"\n",
    "print(output)"
   ]
  },
  {
   "cell_type": "markdown",
   "metadata": {},
   "source": [
    "## Multi Line String\n",
    "\n",
    "```py\n",
    "\"\"\"\n",
    "This is cool\n",
    "This is amaging\n",
    "\"\"\"\n",
    "```\n",
    "\n",
    "output\n",
    "\n",
    "```\n",
    "This is cool\n",
    "This is amaging\n",
    "```"
   ]
  }
 ],
 "metadata": {
  "kernelspec": {
   "display_name": "Python 3",
   "language": "python",
   "name": "python3"
  },
  "language_info": {
   "codemirror_mode": {
    "name": "ipython",
    "version": 3
   },
   "file_extension": ".py",
   "mimetype": "text/x-python",
   "name": "python",
   "nbconvert_exporter": "python",
   "pygments_lexer": "ipython3",
   "version": "3.13.0"
  }
 },
 "nbformat": 4,
 "nbformat_minor": 2
}
