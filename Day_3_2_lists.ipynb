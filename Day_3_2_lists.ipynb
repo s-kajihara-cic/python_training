{
 "cells": [
  {
   "cell_type": "markdown",
   "metadata": {},
   "source": [
    "# Lists\n",
    "\n",
    "Hold multiple values\n",
    "\n",
    "## CRUD\n",
    "- Create ✅  - `marks = [80, 90, 100, 60, 85]`\n",
    "- Read   ✅  - `index`, `negative index` & `slice (:)`\n",
    "- Update ✅  - `index`, `append` &  `insert` \n",
    "- Delete ✅  - `remove` & `pop`\n"
   ]
  },
  {
   "cell_type": "code",
   "execution_count": null,
   "metadata": {},
   "outputs": [],
   "source": [
    "mark1 = 60\n",
    "mark2 = 80\n",
    "mark3 = 70\n",
    "\n",
    "# Can we have valiable holding multiple values?"
   ]
  },
  {
   "cell_type": "markdown",
   "metadata": {},
   "source": [
    "### Create"
   ]
  },
  {
   "cell_type": "code",
   "execution_count": 33,
   "metadata": {},
   "outputs": [
    {
     "name": "stdout",
     "output_type": "stream",
     "text": [
      "[60, 80, 70, 90, 50]\n"
     ]
    }
   ],
   "source": [
    "marks = [60, 80, 70, 90, 50]\n",
    "\n",
    "print(marks)"
   ]
  },
  {
   "cell_type": "markdown",
   "metadata": {},
   "source": [
    "### Read\n",
    "\n",
    "- Index\n",
    "- Negative\n",
    "- Slice"
   ]
  },
  {
   "cell_type": "code",
   "execution_count": 5,
   "metadata": {},
   "outputs": [
    {
     "data": {
      "text/plain": [
       "80"
      ]
     },
     "execution_count": 5,
     "metadata": {},
     "output_type": "execute_result"
    }
   ],
   "source": [
    "marks[1] # reading value"
   ]
  },
  {
   "cell_type": "code",
   "execution_count": 7,
   "metadata": {},
   "outputs": [
    {
     "data": {
      "text/plain": [
       "50"
      ]
     },
     "execution_count": 7,
     "metadata": {},
     "output_type": "execute_result"
    }
   ],
   "source": [
    "marks[-1] # negative index"
   ]
  },
  {
   "cell_type": "code",
   "execution_count": null,
   "metadata": {},
   "outputs": [
    {
     "data": {
      "text/plain": [
       "[70, 90, 50]"
      ]
     },
     "execution_count": 9,
     "metadata": {},
     "output_type": "execute_result"
    }
   ],
   "source": [
    "marks[2:] #slice"
   ]
  },
  {
   "cell_type": "code",
   "execution_count": 10,
   "metadata": {},
   "outputs": [
    {
     "data": {
      "text/plain": [
       "[50, 90, 70, 80, 60]"
      ]
     },
     "execution_count": 10,
     "metadata": {},
     "output_type": "execute_result"
    }
   ],
   "source": [
    "marks[::-1]"
   ]
  },
  {
   "cell_type": "markdown",
   "metadata": {},
   "source": [
    "### Update"
   ]
  },
  {
   "cell_type": "code",
   "execution_count": 34,
   "metadata": {},
   "outputs": [
    {
     "name": "stdout",
     "output_type": "stream",
     "text": [
      "[60, 95, 70, 90, 50]\n"
     ]
    }
   ],
   "source": [
    "marks[1] = 95 # index update value\n",
    "\n",
    "print(marks)"
   ]
  },
  {
   "cell_type": "code",
   "execution_count": 35,
   "metadata": {},
   "outputs": [
    {
     "data": {
      "text/plain": [
       "[60, 95, 70, 90, 50, 80]"
      ]
     },
     "execution_count": 35,
     "metadata": {},
     "output_type": "execute_result"
    }
   ],
   "source": [
    "marks.append(80) # always adds at last\n",
    "\n",
    "marks"
   ]
  },
  {
   "cell_type": "markdown",
   "metadata": {},
   "source": [
    "`marks.insert(0, 70)`"
   ]
  },
  {
   "cell_type": "code",
   "execution_count": 36,
   "metadata": {},
   "outputs": [
    {
     "data": {
      "text/plain": [
       "[70, 60, 95, 70, 90, 50, 80]"
      ]
     },
     "execution_count": 36,
     "metadata": {},
     "output_type": "execute_result"
    }
   ],
   "source": [
    "marks.insert(0, 70) # Insert in anywhere\n",
    "\n",
    "marks"
   ]
  },
  {
   "cell_type": "markdown",
   "metadata": {},
   "source": [
    "## Delete\n",
    "- `pop()`\n",
    "- `remove()`\n"
   ]
  },
  {
   "cell_type": "code",
   "execution_count": 37,
   "metadata": {},
   "outputs": [
    {
     "data": {
      "text/plain": [
       "95"
      ]
     },
     "execution_count": 37,
     "metadata": {},
     "output_type": "execute_result"
    }
   ],
   "source": [
    "marks.pop(2) # Based on index"
   ]
  },
  {
   "cell_type": "code",
   "execution_count": 38,
   "metadata": {},
   "outputs": [
    {
     "data": {
      "text/plain": [
       "[60, 70, 90, 50, 80]"
      ]
     },
     "execution_count": 38,
     "metadata": {},
     "output_type": "execute_result"
    }
   ],
   "source": [
    "marks.remove(70)\n",
    "\n",
    "marks"
   ]
  },
  {
   "cell_type": "code",
   "execution_count": 39,
   "metadata": {},
   "outputs": [],
   "source": [
    "characters = ['Hello kitty', 'Goku', 'Pikachu', 'Luffy', 'Yuji Itadori', \"Levi\"]\n"
   ]
  },
  {
   "cell_type": "code",
   "execution_count": 42,
   "metadata": {},
   "outputs": [
    {
     "name": "stdout",
     "output_type": "stream",
     "text": [
      "0 Hello kitty\n",
      "1 Goku\n",
      "2 Pikachu\n",
      "3 Luffy\n",
      "4 Yuji Itadori\n",
      "5 Levi\n"
     ]
    }
   ],
   "source": [
    "# Clue: len()\n",
    "for i in range(len(characters)):\n",
    "    print(i, characters[i])\n"
   ]
  },
  {
   "cell_type": "code",
   "execution_count": 46,
   "metadata": {},
   "outputs": [
    {
     "data": {
      "text/plain": [
       "[60, 70, 90, 50, 80]"
      ]
     },
     "execution_count": 46,
     "metadata": {},
     "output_type": "execute_result"
    }
   ],
   "source": [
    "marks"
   ]
  },
  {
   "cell_type": "code",
   "execution_count": 47,
   "metadata": {},
   "outputs": [
    {
     "name": "stdout",
     "output_type": "stream",
     "text": [
      "120\n",
      "140\n",
      "180\n",
      "100\n",
      "160\n"
     ]
    }
   ],
   "source": [
    "for i in range(len(marks)):\n",
    "    print(marks[i] * 2)"
   ]
  },
  {
   "cell_type": "code",
   "execution_count": null,
   "metadata": {},
   "outputs": [
    {
     "name": "stdout",
     "output_type": "stream",
     "text": [
      "0 Hello kitty\n",
      "1 Goku\n",
      "2 Pikachu\n",
      "3 Luffy\n",
      "4 Yuji Itadori\n",
      "5 Levi\n"
     ]
    }
   ],
   "source": [
    "for i, char in enumerate(characters):\n",
    "    print(i, char)\n"
   ]
  },
  {
   "cell_type": "code",
   "execution_count": 56,
   "metadata": {},
   "outputs": [
    {
     "name": "stdout",
     "output_type": "stream",
     "text": [
      "powers -> [4000, 6000, 8000, 3000, 9000]\n"
     ]
    }
   ],
   "source": [
    "# Task 1.1: Double the power\n",
    "powers = [2000, 3000, 4000, 1500, 4500]\n",
    "\n",
    "\n",
    "# Output\n",
    "# powers -> [4000, 6000, 8000, 3000, 9000]\n",
    "for i in range(len(powers)):\n",
    "    powers[i] = powers[i] * 2\n",
    "\n",
    "print(\"powers ->\", powers)"
   ]
  },
  {
   "cell_type": "code",
   "execution_count": 58,
   "metadata": {},
   "outputs": [
    {
     "name": "stdout",
     "output_type": "stream",
     "text": [
      "doubled_powers -> [4000, 6000, 8000, 3000, 9000]\n",
      "powers -> [2000, 3000, 4000, 1500, 4500]\n"
     ]
    }
   ],
   "source": [
    "# Task 1.2: Double the power\n",
    "powers = [2000, 3000, 4000, 1500, 4500]\n",
    "\n",
    "\n",
    "# Output\n",
    "# doubled_powers -> [4000, 6000, 8000, 3000, 9000]\n",
    "# powers -> [2000, 3000, 4000, 1500, 4500]\n",
    "doubled_powers = []\n",
    "for i in range(len(powers)):\n",
    "    doubled_powers.append(powers[i] * 2)\n",
    "\n",
    "print(\"doubled_powers ->\", doubled_powers)\n",
    "print(\"powers ->\", powers)"
   ]
  }
 ],
 "metadata": {
  "kernelspec": {
   "display_name": "Python 3",
   "language": "python",
   "name": "python3"
  },
  "language_info": {
   "codemirror_mode": {
    "name": "ipython",
    "version": 3
   },
   "file_extension": ".py",
   "mimetype": "text/x-python",
   "name": "python",
   "nbconvert_exporter": "python",
   "pygments_lexer": "ipython3",
   "version": "3.13.0"
  }
 },
 "nbformat": 4,
 "nbformat_minor": 2
}
